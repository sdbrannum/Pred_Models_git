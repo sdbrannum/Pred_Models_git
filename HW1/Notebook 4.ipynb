{
 "cells": [
  {
   "cell_type": "code",
   "execution_count": 36,
   "metadata": {
    "collapsed": true
   },
   "outputs": [],
   "source": [
    "#import packages\n",
    "import numpy as py\n",
    "import matplotlib.pyplot as plt\n",
    "import pandas as pd\n",
    "from sklearn.metrics import mean_squared_error\n",
    "from sklearn.linear_model import LinearRegression\n",
    "from sklearn.linear_model import Ridge\n",
    "from sklearn.linear_model import ElasticNet\n",
    "from sklearn.linear_model import LassoLars\n",
    "from sklearn.linear_model import LassoCV\n",
    "%matplotlib inline "
   ]
  },
  {
   "cell_type": "code",
   "execution_count": 3,
   "metadata": {},
   "outputs": [],
   "source": [
    "prostate = pd.read_csv('prostate.csv')"
   ]
  },
  {
   "cell_type": "code",
   "execution_count": 4,
   "metadata": {},
   "outputs": [
    {
     "data": {
      "text/html": [
       "<div>\n",
       "<style>\n",
       "    .dataframe thead tr:only-child th {\n",
       "        text-align: right;\n",
       "    }\n",
       "\n",
       "    .dataframe thead th {\n",
       "        text-align: left;\n",
       "    }\n",
       "\n",
       "    .dataframe tbody tr th {\n",
       "        vertical-align: top;\n",
       "    }\n",
       "</style>\n",
       "<table border=\"1\" class=\"dataframe\">\n",
       "  <thead>\n",
       "    <tr style=\"text-align: right;\">\n",
       "      <th></th>\n",
       "      <th>Obs</th>\n",
       "      <th>lcavol</th>\n",
       "      <th>lweight</th>\n",
       "      <th>age</th>\n",
       "      <th>lbph</th>\n",
       "      <th>svi</th>\n",
       "      <th>lcp</th>\n",
       "      <th>gleason</th>\n",
       "      <th>pgg45</th>\n",
       "      <th>lpsa</th>\n",
       "    </tr>\n",
       "  </thead>\n",
       "  <tbody>\n",
       "    <tr>\n",
       "      <th>0</th>\n",
       "      <td>1</td>\n",
       "      <td>-0.579818</td>\n",
       "      <td>2.769459</td>\n",
       "      <td>50</td>\n",
       "      <td>-1.386294</td>\n",
       "      <td>0</td>\n",
       "      <td>-1.386294</td>\n",
       "      <td>6</td>\n",
       "      <td>0</td>\n",
       "      <td>-0.430783</td>\n",
       "    </tr>\n",
       "    <tr>\n",
       "      <th>1</th>\n",
       "      <td>2</td>\n",
       "      <td>-0.994252</td>\n",
       "      <td>3.319626</td>\n",
       "      <td>58</td>\n",
       "      <td>-1.386294</td>\n",
       "      <td>0</td>\n",
       "      <td>-1.386294</td>\n",
       "      <td>6</td>\n",
       "      <td>0</td>\n",
       "      <td>-0.162519</td>\n",
       "    </tr>\n",
       "    <tr>\n",
       "      <th>2</th>\n",
       "      <td>3</td>\n",
       "      <td>-0.510826</td>\n",
       "      <td>2.691243</td>\n",
       "      <td>74</td>\n",
       "      <td>-1.386294</td>\n",
       "      <td>0</td>\n",
       "      <td>-1.386294</td>\n",
       "      <td>7</td>\n",
       "      <td>20</td>\n",
       "      <td>-0.162519</td>\n",
       "    </tr>\n",
       "    <tr>\n",
       "      <th>3</th>\n",
       "      <td>4</td>\n",
       "      <td>-1.203973</td>\n",
       "      <td>3.282789</td>\n",
       "      <td>58</td>\n",
       "      <td>-1.386294</td>\n",
       "      <td>0</td>\n",
       "      <td>-1.386294</td>\n",
       "      <td>6</td>\n",
       "      <td>0</td>\n",
       "      <td>-0.162519</td>\n",
       "    </tr>\n",
       "    <tr>\n",
       "      <th>4</th>\n",
       "      <td>5</td>\n",
       "      <td>0.751416</td>\n",
       "      <td>3.432373</td>\n",
       "      <td>62</td>\n",
       "      <td>-1.386294</td>\n",
       "      <td>0</td>\n",
       "      <td>-1.386294</td>\n",
       "      <td>6</td>\n",
       "      <td>0</td>\n",
       "      <td>0.371564</td>\n",
       "    </tr>\n",
       "  </tbody>\n",
       "</table>\n",
       "</div>"
      ],
      "text/plain": [
       "   Obs    lcavol   lweight  age      lbph  svi       lcp  gleason  pgg45  \\\n",
       "0    1 -0.579818  2.769459   50 -1.386294    0 -1.386294        6      0   \n",
       "1    2 -0.994252  3.319626   58 -1.386294    0 -1.386294        6      0   \n",
       "2    3 -0.510826  2.691243   74 -1.386294    0 -1.386294        7     20   \n",
       "3    4 -1.203973  3.282789   58 -1.386294    0 -1.386294        6      0   \n",
       "4    5  0.751416  3.432373   62 -1.386294    0 -1.386294        6      0   \n",
       "\n",
       "       lpsa  \n",
       "0 -0.430783  \n",
       "1 -0.162519  \n",
       "2 -0.162519  \n",
       "3 -0.162519  \n",
       "4  0.371564  "
      ]
     },
     "execution_count": 4,
     "metadata": {},
     "output_type": "execute_result"
    }
   ],
   "source": [
    "prostate.head()"
   ]
  },
  {
   "cell_type": "code",
   "execution_count": 5,
   "metadata": {},
   "outputs": [
    {
     "data": {
      "text/plain": [
       "(97, 10)"
      ]
     },
     "execution_count": 5,
     "metadata": {},
     "output_type": "execute_result"
    }
   ],
   "source": [
    "prostate.shape"
   ]
  },
  {
   "cell_type": "code",
   "execution_count": 8,
   "metadata": {
    "scrolled": true
   },
   "outputs": [
    {
     "name": "stdout",
     "output_type": "stream",
     "text": [
      "Obs        0\n",
      "lcavol     0\n",
      "lweight    0\n",
      "age        0\n",
      "lbph       0\n",
      "svi        0\n",
      "lcp        0\n",
      "gleason    0\n",
      "pgg45      0\n",
      "lpsa       0\n",
      "dtype: int64\n"
     ]
    }
   ],
   "source": [
    "# check count of nulls in columns\n",
    "\n",
    "pd.set_option('display.max_columns', None)\n",
    "pd.set_option('display.max_rows', None)\n",
    "print(prostate.isnull().sum())"
   ]
  },
  {
   "cell_type": "code",
   "execution_count": 10,
   "metadata": {},
   "outputs": [
    {
     "data": {
      "text/html": [
       "<div>\n",
       "<style>\n",
       "    .dataframe thead tr:only-child th {\n",
       "        text-align: right;\n",
       "    }\n",
       "\n",
       "    .dataframe thead th {\n",
       "        text-align: left;\n",
       "    }\n",
       "\n",
       "    .dataframe tbody tr th {\n",
       "        vertical-align: top;\n",
       "    }\n",
       "</style>\n",
       "<table border=\"1\" class=\"dataframe\">\n",
       "  <thead>\n",
       "    <tr style=\"text-align: right;\">\n",
       "      <th></th>\n",
       "      <th>lpsa</th>\n",
       "      <th>lcavol</th>\n",
       "      <th>lweight</th>\n",
       "      <th>age</th>\n",
       "      <th>lbph</th>\n",
       "      <th>svi</th>\n",
       "      <th>lcp</th>\n",
       "      <th>gleason</th>\n",
       "      <th>pgg45</th>\n",
       "    </tr>\n",
       "  </thead>\n",
       "  <tbody>\n",
       "    <tr>\n",
       "      <th>0</th>\n",
       "      <td>-0.430783</td>\n",
       "      <td>-0.579818</td>\n",
       "      <td>2.769459</td>\n",
       "      <td>50</td>\n",
       "      <td>-1.386294</td>\n",
       "      <td>0</td>\n",
       "      <td>-1.386294</td>\n",
       "      <td>6</td>\n",
       "      <td>0</td>\n",
       "    </tr>\n",
       "    <tr>\n",
       "      <th>1</th>\n",
       "      <td>-0.162519</td>\n",
       "      <td>-0.994252</td>\n",
       "      <td>3.319626</td>\n",
       "      <td>58</td>\n",
       "      <td>-1.386294</td>\n",
       "      <td>0</td>\n",
       "      <td>-1.386294</td>\n",
       "      <td>6</td>\n",
       "      <td>0</td>\n",
       "    </tr>\n",
       "    <tr>\n",
       "      <th>2</th>\n",
       "      <td>-0.162519</td>\n",
       "      <td>-0.510826</td>\n",
       "      <td>2.691243</td>\n",
       "      <td>74</td>\n",
       "      <td>-1.386294</td>\n",
       "      <td>0</td>\n",
       "      <td>-1.386294</td>\n",
       "      <td>7</td>\n",
       "      <td>20</td>\n",
       "    </tr>\n",
       "    <tr>\n",
       "      <th>3</th>\n",
       "      <td>-0.162519</td>\n",
       "      <td>-1.203973</td>\n",
       "      <td>3.282789</td>\n",
       "      <td>58</td>\n",
       "      <td>-1.386294</td>\n",
       "      <td>0</td>\n",
       "      <td>-1.386294</td>\n",
       "      <td>6</td>\n",
       "      <td>0</td>\n",
       "    </tr>\n",
       "    <tr>\n",
       "      <th>4</th>\n",
       "      <td>0.371564</td>\n",
       "      <td>0.751416</td>\n",
       "      <td>3.432373</td>\n",
       "      <td>62</td>\n",
       "      <td>-1.386294</td>\n",
       "      <td>0</td>\n",
       "      <td>-1.386294</td>\n",
       "      <td>6</td>\n",
       "      <td>0</td>\n",
       "    </tr>\n",
       "  </tbody>\n",
       "</table>\n",
       "</div>"
      ],
      "text/plain": [
       "       lpsa    lcavol   lweight  age      lbph  svi       lcp  gleason  pgg45\n",
       "0 -0.430783 -0.579818  2.769459   50 -1.386294    0 -1.386294        6      0\n",
       "1 -0.162519 -0.994252  3.319626   58 -1.386294    0 -1.386294        6      0\n",
       "2 -0.162519 -0.510826  2.691243   74 -1.386294    0 -1.386294        7     20\n",
       "3 -0.162519 -1.203973  3.282789   58 -1.386294    0 -1.386294        6      0\n",
       "4  0.371564  0.751416  3.432373   62 -1.386294    0 -1.386294        6      0"
      ]
     },
     "execution_count": 10,
     "metadata": {},
     "output_type": "execute_result"
    }
   ],
   "source": [
    "# drop Obs, irrelevant\n",
    "prostate = prostate.drop(['Obs'], axis=1)\n",
    "\n",
    "# move lpsa to first as target\n",
    "targetName = 'lpsa'\n",
    "targetSeries = prostate[targetName]\n",
    "\n",
    "#remove target from current location and insert in collum 0\n",
    "del prostate[targetName]\n",
    "prostate.insert(0, targetName, targetSeries)\n",
    "\n",
    "prostate.head()"
   ]
  },
  {
   "cell_type": "code",
   "execution_count": 11,
   "metadata": {},
   "outputs": [
    {
     "name": "stdout",
     "output_type": "stream",
     "text": [
      "(97,)\n",
      "(97, 8)\n"
     ]
    }
   ],
   "source": [
    "# breaking our dataset into the target and the predictors\n",
    "prostate.target=prostate['lpsa'] \n",
    "prostate.features=prostate.drop(['lpsa'], axis=1)                         \n",
    "print(prostate.target.shape)\n",
    "print(prostate.features.shape)"
   ]
  },
  {
   "cell_type": "code",
   "execution_count": 23,
   "metadata": {
    "collapsed": true
   },
   "outputs": [],
   "source": [
    "## source Dr. Gartland - Linear Regression- More Advanced Techniques\n",
    "\n",
    "# Helper function to fit, cross validate, and assess\n",
    "# slight automation, this is one way of not having to repeaatedly fit and print your measures\n",
    "# \n",
    "\n",
    "from sklearn.model_selection import *\n",
    "def train_and_evaluate(model, features, target):\n",
    "    \n",
    "    model.fit(features, target)\n",
    "    predicted_LR = model.predict(features);\n",
    "    \n",
    "    print(\"Coefficient of determination on training set:\",model.score(features, target))\n",
    "    \n",
    "    # create a k-fold croos validation iterator of k=5 folds\n",
    "    scores = cross_val_score(model, features, target, cv=5)\n",
    "    print(\"Average coefficient of determination using 5-fold crossvalidation:\",py.mean(scores))\n",
    "    \n",
    "    print(\"Coef\", model.intercept_, model.coef_)\n",
    "    print(\"MSE\", mean_squared_error(target, predicted_LR))"
   ]
  },
  {
   "cell_type": "markdown",
   "metadata": {},
   "source": [
    "## Linear Regression"
   ]
  },
  {
   "cell_type": "code",
   "execution_count": 24,
   "metadata": {},
   "outputs": [
    {
     "name": "stdout",
     "output_type": "stream",
     "text": [
      "Coefficient of determination on training set: 0.663389565499\n",
      "Average coefficient of determination using 5-fold crossvalidation: -9.73426138478\n",
      "Coef 0.181560845469 [ 0.56434128  0.62201979 -0.02124819  0.09671252  0.7616734  -0.10605094\n",
      "  0.04922793  0.00445751]\n",
      "MSE 0.4439012241\n"
     ]
    }
   ],
   "source": [
    "LRModel = LinearRegression(normalize=True)\n",
    "train_and_evaluate(LRModel, prostate.features, prostate.target)"
   ]
  },
  {
   "cell_type": "markdown",
   "metadata": {},
   "source": [
    "## Ridge Regression"
   ]
  },
  {
   "cell_type": "code",
   "execution_count": 26,
   "metadata": {},
   "outputs": [
    {
     "name": "stdout",
     "output_type": "stream",
     "text": [
      "Coefficient of determination on training set: 0.623580506206\n",
      "Average coefficient of determination using 5-fold crossvalidation: -9.32114285063\n",
      "Coef 1.34977433997 [ 0.4907651   0.28356959 -0.0123061   0.10538182  0.25801323  0.04535242\n",
      "  0.0058513   0.00513288]\n",
      "MSE 0.496398973246\n"
     ]
    }
   ],
   "source": [
    "RGModel = Ridge(alpha=20)\n",
    "train_and_evaluate(RGModel, prostate.features, prostate.target)"
   ]
  },
  {
   "cell_type": "code",
   "execution_count": 37,
   "metadata": {},
   "outputs": [
    {
     "name": "stdout",
     "output_type": "stream",
     "text": [
      "Grid Scores {'mean_fit_time': array([ 0.02317567,  0.00625   ,  0.        ,  0.00624943,  0.        ]), 'std_fit_time': array([ 0.0168841 ,  0.00765466,  0.        ,  0.00765395,  0.        ]), 'mean_score_time': array([ 0.,  0.,  0.,  0.,  0.]), 'std_score_time': array([ 0.,  0.,  0.,  0.,  0.]), 'param_alpha': masked_array(data = [0.01 0.1 0.5 1 2],\n",
      "             mask = [False False False False False],\n",
      "       fill_value = ?)\n",
      ", 'params': [{'alpha': 0.01}, {'alpha': 0.1}, {'alpha': 0.5}, {'alpha': 1}, {'alpha': 2}], 'split0_test_score': array([-2.72356144, -2.72951823, -2.75584924, -2.78838061, -2.8519637 ]), 'split1_test_score': array([-15.81573693, -15.77216208, -15.59939222, -15.42277382, -15.1610955 ]), 'split2_test_score': array([-13.35088349, -13.3049951 , -13.11851307, -12.92000036, -12.61126985]), 'split3_test_score': array([-13.93868432, -13.87590764, -13.64042357, -13.42470001, -13.16353786]), 'split4_test_score': array([-2.82705217, -2.83887254, -2.88832586, -2.94413912, -3.04074964]), 'mean_test_score': array([-9.7216675 , -9.69494161, -9.59178162, -9.49186638, -9.35831725]), 'std_test_score': array([ 5.75580071,  5.72735245,  5.61475834,  5.49976193,  5.32895773]), 'rank_test_score': array([5, 4, 3, 2, 1]), 'split0_train_score': array([ 0.54625191,  0.54623865,  0.54594497,  0.54514344,  0.54257451]), 'split1_train_score': array([ 0.72954835,  0.72953712,  0.72929197,  0.72863685,  0.72660294]), 'split2_train_score': array([ 0.70872533,  0.70871572,  0.70850315,  0.70792378,  0.70607169]), 'split3_train_score': array([ 0.70038687,  0.70037388,  0.70009693,  0.69938105,  0.69726298]), 'split4_train_score': array([ 0.58685395,  0.58683991,  0.58653475,  0.5857208 ,  0.58318375]), 'mean_train_score': array([ 0.65435328,  0.65434106,  0.65407436,  0.65336118,  0.65113917]), 'std_train_score': array([ 0.07344627,  0.07344741,  0.07347356,  0.07354948,  0.07381598])}\n",
      "Best {'alpha': 2}\n"
     ]
    }
   ],
   "source": [
    "# grid search on ridge\n",
    "\n",
    "\n",
    "# use a full grid over several parameters and cross validate 5 times\n",
    "from sklearn.model_selection import GridSearchCV\n",
    "param_grid = {\"alpha\": [.01,.1, .5, 1, 2]}\n",
    "#param_grid={\"alpha\": [1,10,1]} this does a range 1 through 10 changes by a factor of 1. \n",
    "#param_grid={\"alpha\": [.01,1,.05]} this does a range 1 through 1 changes by a factor of .05\n",
    "\n",
    "# run grid search\n",
    "grid_search = GridSearchCV(RGModel, param_grid=param_grid,n_jobs=-1,cv=5)\n",
    "grid_search.fit(prostate.features, prostate.target)\n",
    "print(\"Grid Scores\", grid_search.cv_results_)\n",
    "print(\"Best\", grid_search.best_params_)"
   ]
  },
  {
   "cell_type": "markdown",
   "metadata": {},
   "source": [
    "## Lasso Regression with Cross Validation"
   ]
  },
  {
   "cell_type": "code",
   "execution_count": 35,
   "metadata": {},
   "outputs": [
    {
     "name": "stdout",
     "output_type": "stream",
     "text": [
      "Coefficient of determination on training set: 0.661215173583\n",
      "Average coefficient of determination using 5-fold crossvalidation: -9.65656022076\n",
      "Coef 0.621962584419 [ 0.55854576  0.55859432 -0.01884546  0.09417079  0.63020145 -0.06349113\n",
      "  0.          0.0049868 ]\n",
      "MSE 0.44676867898\n"
     ]
    }
   ],
   "source": [
    "LASModel = LassoCV(alphas=[.01,.1, .5, 1, 2], cv=5)\n",
    "train_and_evaluate(LASModel, prostate.features, prostate.target)"
   ]
  },
  {
   "cell_type": "markdown",
   "metadata": {},
   "source": [
    "## ElasticNet Regression"
   ]
  },
  {
   "cell_type": "code",
   "execution_count": 32,
   "metadata": {},
   "outputs": [
    {
     "name": "stdout",
     "output_type": "stream",
     "text": [
      "Coefficient of determination on training set: 0.475792806864\n",
      "Average coefficient of determination using 5-fold crossvalidation: -9.18036541122\n",
      "Coef 1.73448461185 [ 0.36370419  0.          0.          0.          0.          0.          0.\n",
      "  0.01037257]\n",
      "MSE 0.691292339348\n"
     ]
    }
   ],
   "source": [
    "ENModel = ElasticNet(alpha=.5)\n",
    "train_and_evaluate(ENModel, prostate.features, prostate.target)"
   ]
  },
  {
   "cell_type": "markdown",
   "metadata": {},
   "source": [
    "## Lasso Lars Regression"
   ]
  },
  {
   "cell_type": "code",
   "execution_count": 34,
   "metadata": {},
   "outputs": [
    {
     "name": "stdout",
     "output_type": "stream",
     "text": [
      "Coefficient of determination on training set: 0.0\n",
      "Average coefficient of determination using 5-fold crossvalidation: -8.97676974076\n",
      "Coef 2.47838687835 [ 0.  0.  0.  0.  0.  0.  0.  0.]\n",
      "MSE 1.31873875139\n"
     ]
    }
   ],
   "source": [
    "LLModel = LassoLars(alpha=1)\n",
    "train_and_evaluate(LLModel, prostate.features, prostate.target)"
   ]
  }
 ],
 "metadata": {
  "kernelspec": {
   "display_name": "Python 3",
   "language": "python",
   "name": "python3"
  },
  "language_info": {
   "codemirror_mode": {
    "name": "ipython",
    "version": 3
   },
   "file_extension": ".py",
   "mimetype": "text/x-python",
   "name": "python",
   "nbconvert_exporter": "python",
   "pygments_lexer": "ipython3",
   "version": "3.6.2"
  }
 },
 "nbformat": 4,
 "nbformat_minor": 2
}
