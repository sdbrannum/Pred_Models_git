{
 "cells": [
  {
   "cell_type": "code",
   "execution_count": 5,
   "metadata": {},
   "outputs": [],
   "source": [
    "#import packages.\n",
    "#This code allows plots to be shown \"in-line\"\n",
    "%matplotlib inline \n",
    "import numpy as np\n",
    "import matplotlib.pyplot as plt\n",
    "import pandas as pd\n",
    "from sklearn import preprocessing\n",
    "from sklearn.cross_validation import train_test_split, cross_val_score, KFold\n",
    "from sklearn.metrics import accuracy_score, precision_score, recall_score, f1_score\n",
    "from sklearn.metrics import roc_curve, auc, confusion_matrix, classification_report\n",
    "from sklearn import tree "
   ]
  },
  {
   "cell_type": "code",
   "execution_count": 6,
   "metadata": {},
   "outputs": [
    {
     "name": "stdout",
     "output_type": "stream",
     "text": [
      "Index([u'id', u'age', u'income', u'children', u'gender', u'region', u'married', u'car', u'savings_acct', u'current_acct', u'mortgage', u'pep'], dtype='object')\n",
      "        id  age   income  children  gender      region married  car  \\\n",
      "0  ID12101   48  17546.0         1  FEMALE  INNER_CITY      NO   NO   \n",
      "1  ID12102   40  30085.1         3    MALE        TOWN     YES  YES   \n",
      "2  ID12103   51  16575.4         0  FEMALE  INNER_CITY     YES  YES   \n",
      "3  ID12104   23  20375.4         3  FEMALE        TOWN     YES   NO   \n",
      "4  ID12105   57  50576.3         0  FEMALE       RURAL     YES   NO   \n",
      "\n",
      "  savings_acct current_acct mortgage  pep  \n",
      "0           NO           NO       NO  YES  \n",
      "1           NO          YES      YES   NO  \n",
      "2          YES          YES       NO   NO  \n",
      "3           NO          YES       NO   NO  \n",
      "4          YES           NO       NO   NO  \n",
      "object\n"
     ]
    }
   ],
   "source": [
    "#import data\n",
    "bank = pd.read_csv(\"bank_data.csv\")\n",
    "print bank.columns\n",
    "print bank.head()\n",
    "print bank.current_acct.dtype"
   ]
  },
  {
   "cell_type": "code",
   "execution_count": 7,
   "metadata": {},
   "outputs": [
    {
     "name": "stdout",
     "output_type": "stream",
     "text": [
      "0    YES\n",
      "1     NO\n",
      "2     NO\n",
      "3     NO\n",
      "4     NO\n",
      "Name: pep, dtype: object\n",
      "   age   income  children  gender      region married  car savings_acct  \\\n",
      "0   48  17546.0         1  FEMALE  INNER_CITY      NO   NO           NO   \n",
      "1   40  30085.1         3    MALE        TOWN     YES  YES           NO   \n",
      "2   51  16575.4         0  FEMALE  INNER_CITY     YES  YES          YES   \n",
      "3   23  20375.4         3  FEMALE        TOWN     YES   NO           NO   \n",
      "4   57  50576.3         0  FEMALE       RURAL     YES   NO          YES   \n",
      "\n",
      "  current_acct  \n",
      "0           NO  \n",
      "1          YES  \n",
      "2          YES  \n",
      "3          YES  \n",
      "4           NO  \n"
     ]
    }
   ],
   "source": [
    "#create target and PV\n",
    "bank.target = bank[bank.columns[11]]\n",
    "bank.data=bank[bank.columns[1:10]]\n",
    "print bank.target.head()\n",
    "print bank.data.head()\n"
   ]
  },
  {
   "cell_type": "code",
   "execution_count": 8,
   "metadata": {},
   "outputs": [
    {
     "data": {
      "text/plain": [
       "0     1\n",
       "1     0\n",
       "2     0\n",
       "3     0\n",
       "4     0\n",
       "5     1\n",
       "6     1\n",
       "7     0\n",
       "8     0\n",
       "9     0\n",
       "10    0\n",
       "11    0\n",
       "12    1\n",
       "13    1\n",
       "14    0\n",
       "...\n",
       "585    0\n",
       "586    1\n",
       "587    1\n",
       "588    0\n",
       "589    0\n",
       "590    0\n",
       "591    1\n",
       "592    0\n",
       "593    1\n",
       "594    0\n",
       "595    0\n",
       "596    0\n",
       "597    1\n",
       "598    0\n",
       "599    1\n",
       "Name: pep, Length: 600, dtype: int64"
      ]
     },
     "execution_count": 8,
     "metadata": {},
     "output_type": "execute_result"
    }
   ],
   "source": [
    "#convert the target variable to a bolean\n",
    "bank.target[0:].replace('NO', 0,'YES', 1)\n",
    "bank.target[0:].replace('YES', 1,'NO', 0)\n",
    "bank.target.astype(int)"
   ]
  },
  {
   "cell_type": "code",
   "execution_count": 9,
   "metadata": {},
   "outputs": [
    {
     "name": "stdout",
     "output_type": "stream",
     "text": [
      "              age        income    children\n",
      "count  600.000000    600.000000  600.000000\n",
      "mean    42.395000  27524.031217    1.011667\n",
      "std     14.424947  12899.468246    1.056752\n",
      "min     18.000000   5014.210000    0.000000\n",
      "25%     30.000000  17264.500000    0.000000\n",
      "50%     42.000000  24925.300000    1.000000\n",
      "75%     55.250000  36172.675000    2.000000\n",
      "max     67.000000  63130.100000    3.000000\n"
     ]
    }
   ],
   "source": [
    "print bank.data.describe()"
   ]
  },
  {
   "cell_type": "code",
   "execution_count": 10,
   "metadata": {},
   "outputs": [
    {
     "name": "stdout",
     "output_type": "stream",
     "text": [
      "0    0.612245\n",
      "1    0.448980\n",
      "2    0.673469\n",
      "3    0.102041\n",
      "4    0.795918\n",
      "Name: age, dtype: float64\n",
      "1.0\n"
     ]
    }
   ],
   "source": [
    "#Transform to Min-Max\n",
    "Age_norm=(bank.data.age-bank.data.age.min())/(bank.data.age.max()-bank.data.age.min())\n",
    "Income_norm=(bank.data.income-bank.data.income.min())/(bank.data.income.max()-bank.data.income.min())\n",
    "Children_norm=(bank.data.children-bank.data.children.min())/(bank.data.children.max()-bank.data.children.min())\n",
    "#Create new df with normed values\n",
    "df1=pd.DataFrame(np.array([Age_norm,Income_norm,Children_norm]).T, columns=[\"Age\",\"Income\",\"Children\"])\n",
    "print Age_norm.head()\n",
    "print Age_norm.max()\n"
   ]
  },
  {
   "cell_type": "code",
   "execution_count": 11,
   "metadata": {},
   "outputs": [
    {
     "name": "stdout",
     "output_type": "stream",
     "text": [
      "        Age    Income  Children  gender_FEMALE  gender_MALE  \\\n",
      "0  0.612245  0.215634  0.333333              1            0   \n",
      "1  0.448980  0.431395  1.000000              0            1   \n",
      "2  0.673469  0.198933  0.000000              1            0   \n",
      "3  0.102041  0.264320  1.000000              1            0   \n",
      "4  0.795918  0.783987  0.000000              1            0   \n",
      "\n",
      "   region_INNER_CITY  region_RURAL  region_SUBURBAN  region_TOWN  married_NO  \\\n",
      "0                  1             0                0            0           1   \n",
      "1                  0             0                0            1           0   \n",
      "2                  1             0                0            0           0   \n",
      "3                  0             0                0            1           0   \n",
      "4                  0             1                0            0           0   \n",
      "\n",
      "   married_YES  car_NO  car_YES  savings_acct_NO  savings_acct_YES  \\\n",
      "0            0       1        0                1                 0   \n",
      "1            1       0        1                1                 0   \n",
      "2            1       0        1                0                 1   \n",
      "3            1       1        0                1                 0   \n",
      "4            1       1        0                0                 1   \n",
      "\n",
      "   current_acct_NO  current_acct_YES  \n",
      "0                1                 0  \n",
      "1                0                 1  \n",
      "2                0                 1  \n",
      "3                0                 1  \n",
      "4                1                 0  \n"
     ]
    }
   ],
   "source": [
    "#Standard Spreadsheet format\n",
    "#Create a new dataframe of normed values and dummies called New_Bank_Data\n",
    "new_bank_data=pd.DataFrame(pd.concat([df1,pd.get_dummies(bank.data['gender'], prefix='gender'),\n",
    "                        pd.get_dummies(bank.data['region'], prefix='region') ,\n",
    "                        pd.get_dummies(bank.data['married'], prefix='married'), pd.get_dummies(bank.data['car'], prefix='car'),\n",
    "                     pd.get_dummies(bank.data['savings_acct'], prefix='savings_acct'),\n",
    "                     pd.get_dummies(bank.data['current_acct'], prefix='current_acct')],\n",
    "                     axis=1))\n",
    "print new_bank_data.head()"
   ]
  },
  {
   "cell_type": "code",
   "execution_count": 12,
   "metadata": {},
   "outputs": [
    {
     "name": "stdout",
     "output_type": "stream",
     "text": [
      "              Age      Income    Children  gender_FEMALE  gender_MALE  \\\n",
      "count  600.000000  600.000000  600.000000     600.000000   600.000000   \n",
      "mean     0.497857    0.387326    0.337222       0.500000     0.500000   \n",
      "std      0.294387    0.221961    0.352251       0.500417     0.500417   \n",
      "min      0.000000    0.000000    0.000000       0.000000     0.000000   \n",
      "25%      0.244898    0.210791    0.000000       0.000000     0.000000   \n",
      "50%      0.489796    0.342610    0.333333       0.500000     0.500000   \n",
      "75%      0.760204    0.536144    0.666667       1.000000     1.000000   \n",
      "max      1.000000    1.000000    1.000000       1.000000     1.000000   \n",
      "\n",
      "       region_INNER_CITY  region_RURAL  region_SUBURBAN  region_TOWN  \\\n",
      "count         600.000000    600.000000       600.000000   600.000000   \n",
      "mean            0.448333      0.160000         0.103333     0.288333   \n",
      "std             0.497738      0.366912         0.304648     0.453365   \n",
      "min             0.000000      0.000000         0.000000     0.000000   \n",
      "25%             0.000000      0.000000         0.000000     0.000000   \n",
      "50%             0.000000      0.000000         0.000000     0.000000   \n",
      "75%             1.000000      0.000000         0.000000     1.000000   \n",
      "max             1.000000      1.000000         1.000000     1.000000   \n",
      "\n",
      "       married_NO  married_YES      car_NO     car_YES  savings_acct_NO  \\\n",
      "count  600.000000   600.000000  600.000000  600.000000       600.000000   \n",
      "mean     0.340000     0.660000    0.506667    0.493333         0.310000   \n",
      "std      0.474104     0.474104    0.500373    0.500373         0.462879   \n",
      "min      0.000000     0.000000    0.000000    0.000000         0.000000   \n",
      "25%      0.000000     0.000000    0.000000    0.000000         0.000000   \n",
      "50%      0.000000     1.000000    1.000000    0.000000         0.000000   \n",
      "75%      1.000000     1.000000    1.000000    1.000000         1.000000   \n",
      "max      1.000000     1.000000    1.000000    1.000000         1.000000   \n",
      "\n",
      "       savings_acct_YES  current_acct_NO  current_acct_YES  \n",
      "count        600.000000       600.000000        600.000000  \n",
      "mean           0.690000         0.241667          0.758333  \n",
      "std            0.462879         0.428451          0.428451  \n",
      "min            0.000000         0.000000          0.000000  \n",
      "25%            0.000000         0.000000          1.000000  \n",
      "50%            1.000000         0.000000          1.000000  \n",
      "75%            1.000000         0.000000          1.000000  \n",
      "max            1.000000         1.000000          1.000000  \n"
     ]
    }
   ],
   "source": [
    "print new_bank_data.describe()"
   ]
  },
  {
   "cell_type": "code",
   "execution_count": 13,
   "metadata": {},
   "outputs": [],
   "source": [
    "#create test and training of data\n",
    "#80% in test\n",
    "tpercent = 0.8\n",
    "tsize = tpercent * len(new_bank_data)\n",
    "bank_train = pd.DataFrame(new_bank_data[:480])\n",
    "bank_test = pd.DataFrame(new_bank_data[481:600])"
   ]
  },
  {
   "cell_type": "code",
   "execution_count": 14,
   "metadata": {
    "collapsed": true
   },
   "outputs": [
    {
     "name": "stdout",
     "output_type": "stream",
     "text": [
      "LogisticRegression(C=1.0, class_weight=None, dual=False, fit_intercept=True,\n",
      "          intercept_scaling=1, penalty='l2', random_state=None, tol=0.0001)\n",
      "Coef [-0.17915873] [[ 0.47567202  1.74485934 -0.41928474 -0.22161479  0.04245606 -0.11663503\n",
      "  -0.05665109  0.23521816 -0.24109076  0.33632387 -0.5154826  -0.10764469\n",
      "  -0.07151404  0.19939156 -0.37855029 -0.12794716 -0.05121157]]\n",
      "MSE 0.363333333333\n"
     ]
    }
   ],
   "source": [
    "#Just wanted to try this with the test data to see if it all worked.\n",
    "from sklearn.linear_model import LogisticRegression\n",
    "\n",
    "# fit a linear regression model to the data\n",
    "model_LR = LogisticRegression()\n",
    "model_LR.fit(new_bank_data, bank.target)\n",
    "print(model_LR)\n",
    "# make predictions\n",
    "expected_LR = bank.target\n",
    "predicted_LR = model_LR.predict(new_bank_data)\n",
    "# summarize the fit of the model\n",
    "mse_LR = np.mean((predicted_LR-expected_LR)**2)\n",
    "print \"Coef\", model_LR.intercept_, model_LR.coef_\n",
    "#print \"RSquare\", (model_LR.score(new_bank_data, bank.target)) #R square\n",
    "print \"MSE\", mse_LR\n",
    "#print \"RSquare\", r2_score(expected_LR, predicted_LR)  #same as above"
   ]
  },
  {
   "cell_type": "code",
   "execution_count": 15,
   "metadata": {},
   "outputs": [
    {
     "data": {
      "text/html": [
       "<div style=\"max-height:1000px;max-width:1500px;overflow:auto;\">\n",
       "<table border=\"1\" class=\"dataframe\">\n",
       "  <thead>\n",
       "    <tr style=\"text-align: right;\">\n",
       "      <th></th>\n",
       "      <th>Age</th>\n",
       "      <th>Income</th>\n",
       "      <th>Children</th>\n",
       "      <th>gender_FEMALE</th>\n",
       "      <th>gender_MALE</th>\n",
       "      <th>region_INNER_CITY</th>\n",
       "      <th>region_RURAL</th>\n",
       "      <th>region_SUBURBAN</th>\n",
       "      <th>region_TOWN</th>\n",
       "      <th>married_NO</th>\n",
       "      <th>married_YES</th>\n",
       "      <th>car_NO</th>\n",
       "      <th>car_YES</th>\n",
       "      <th>savings_acct_NO</th>\n",
       "      <th>savings_acct_YES</th>\n",
       "      <th>current_acct_NO</th>\n",
       "      <th>current_acct_YES</th>\n",
       "    </tr>\n",
       "  </thead>\n",
       "  <tbody>\n",
       "    <tr>\n",
       "      <th>count</th>\n",
       "      <td> 480.000000</td>\n",
       "      <td> 480.000000</td>\n",
       "      <td> 480.000000</td>\n",
       "      <td> 480.000000</td>\n",
       "      <td> 480.000000</td>\n",
       "      <td> 480.000000</td>\n",
       "      <td> 480.000000</td>\n",
       "      <td> 480.000000</td>\n",
       "      <td> 480.000000</td>\n",
       "      <td> 480.000000</td>\n",
       "      <td> 480.000000</td>\n",
       "      <td> 480.000000</td>\n",
       "      <td> 480.000000</td>\n",
       "      <td> 480.000000</td>\n",
       "      <td> 480.000000</td>\n",
       "      <td> 480.000000</td>\n",
       "      <td> 480.000000</td>\n",
       "    </tr>\n",
       "    <tr>\n",
       "      <th>mean</th>\n",
       "      <td>   0.503699</td>\n",
       "      <td>   0.389827</td>\n",
       "      <td>   0.336111</td>\n",
       "      <td>   0.489583</td>\n",
       "      <td>   0.510417</td>\n",
       "      <td>   0.460417</td>\n",
       "      <td>   0.160417</td>\n",
       "      <td>   0.093750</td>\n",
       "      <td>   0.285417</td>\n",
       "      <td>   0.343750</td>\n",
       "      <td>   0.656250</td>\n",
       "      <td>   0.516667</td>\n",
       "      <td>   0.483333</td>\n",
       "      <td>   0.320833</td>\n",
       "      <td>   0.679167</td>\n",
       "      <td>   0.235417</td>\n",
       "      <td>   0.764583</td>\n",
       "    </tr>\n",
       "    <tr>\n",
       "      <th>std</th>\n",
       "      <td>   0.297241</td>\n",
       "      <td>   0.221982</td>\n",
       "      <td>   0.353255</td>\n",
       "      <td>   0.500413</td>\n",
       "      <td>   0.500413</td>\n",
       "      <td>   0.498951</td>\n",
       "      <td>   0.367375</td>\n",
       "      <td>   0.291785</td>\n",
       "      <td>   0.452084</td>\n",
       "      <td>   0.475454</td>\n",
       "      <td>   0.475454</td>\n",
       "      <td>   0.500244</td>\n",
       "      <td>   0.500244</td>\n",
       "      <td>   0.467284</td>\n",
       "      <td>   0.467284</td>\n",
       "      <td>   0.424702</td>\n",
       "      <td>   0.424702</td>\n",
       "    </tr>\n",
       "    <tr>\n",
       "      <th>min</th>\n",
       "      <td>   0.000000</td>\n",
       "      <td>   0.000000</td>\n",
       "      <td>   0.000000</td>\n",
       "      <td>   0.000000</td>\n",
       "      <td>   0.000000</td>\n",
       "      <td>   0.000000</td>\n",
       "      <td>   0.000000</td>\n",
       "      <td>   0.000000</td>\n",
       "      <td>   0.000000</td>\n",
       "      <td>   0.000000</td>\n",
       "      <td>   0.000000</td>\n",
       "      <td>   0.000000</td>\n",
       "      <td>   0.000000</td>\n",
       "      <td>   0.000000</td>\n",
       "      <td>   0.000000</td>\n",
       "      <td>   0.000000</td>\n",
       "      <td>   0.000000</td>\n",
       "    </tr>\n",
       "    <tr>\n",
       "      <th>25%</th>\n",
       "      <td>   0.244898</td>\n",
       "      <td>   0.214964</td>\n",
       "      <td>   0.000000</td>\n",
       "      <td>   0.000000</td>\n",
       "      <td>   0.000000</td>\n",
       "      <td>   0.000000</td>\n",
       "      <td>   0.000000</td>\n",
       "      <td>   0.000000</td>\n",
       "      <td>   0.000000</td>\n",
       "      <td>   0.000000</td>\n",
       "      <td>   0.000000</td>\n",
       "      <td>   0.000000</td>\n",
       "      <td>   0.000000</td>\n",
       "      <td>   0.000000</td>\n",
       "      <td>   0.000000</td>\n",
       "      <td>   0.000000</td>\n",
       "      <td>   1.000000</td>\n",
       "    </tr>\n",
       "    <tr>\n",
       "      <th>50%</th>\n",
       "      <td>   0.489796</td>\n",
       "      <td>   0.345919</td>\n",
       "      <td>   0.333333</td>\n",
       "      <td>   0.000000</td>\n",
       "      <td>   1.000000</td>\n",
       "      <td>   0.000000</td>\n",
       "      <td>   0.000000</td>\n",
       "      <td>   0.000000</td>\n",
       "      <td>   0.000000</td>\n",
       "      <td>   0.000000</td>\n",
       "      <td>   1.000000</td>\n",
       "      <td>   1.000000</td>\n",
       "      <td>   0.000000</td>\n",
       "      <td>   0.000000</td>\n",
       "      <td>   1.000000</td>\n",
       "      <td>   0.000000</td>\n",
       "      <td>   1.000000</td>\n",
       "    </tr>\n",
       "    <tr>\n",
       "      <th>75%</th>\n",
       "      <td>   0.775510</td>\n",
       "      <td>   0.538661</td>\n",
       "      <td>   0.666667</td>\n",
       "      <td>   1.000000</td>\n",
       "      <td>   1.000000</td>\n",
       "      <td>   1.000000</td>\n",
       "      <td>   0.000000</td>\n",
       "      <td>   0.000000</td>\n",
       "      <td>   1.000000</td>\n",
       "      <td>   1.000000</td>\n",
       "      <td>   1.000000</td>\n",
       "      <td>   1.000000</td>\n",
       "      <td>   1.000000</td>\n",
       "      <td>   1.000000</td>\n",
       "      <td>   1.000000</td>\n",
       "      <td>   0.000000</td>\n",
       "      <td>   1.000000</td>\n",
       "    </tr>\n",
       "    <tr>\n",
       "      <th>max</th>\n",
       "      <td>   1.000000</td>\n",
       "      <td>   1.000000</td>\n",
       "      <td>   1.000000</td>\n",
       "      <td>   1.000000</td>\n",
       "      <td>   1.000000</td>\n",
       "      <td>   1.000000</td>\n",
       "      <td>   1.000000</td>\n",
       "      <td>   1.000000</td>\n",
       "      <td>   1.000000</td>\n",
       "      <td>   1.000000</td>\n",
       "      <td>   1.000000</td>\n",
       "      <td>   1.000000</td>\n",
       "      <td>   1.000000</td>\n",
       "      <td>   1.000000</td>\n",
       "      <td>   1.000000</td>\n",
       "      <td>   1.000000</td>\n",
       "      <td>   1.000000</td>\n",
       "    </tr>\n",
       "  </tbody>\n",
       "</table>\n",
       "</div>"
      ],
      "text/plain": [
       "              Age      Income    Children  gender_FEMALE  gender_MALE  \\\n",
       "count  480.000000  480.000000  480.000000     480.000000   480.000000   \n",
       "mean     0.503699    0.389827    0.336111       0.489583     0.510417   \n",
       "std      0.297241    0.221982    0.353255       0.500413     0.500413   \n",
       "min      0.000000    0.000000    0.000000       0.000000     0.000000   \n",
       "25%      0.244898    0.214964    0.000000       0.000000     0.000000   \n",
       "50%      0.489796    0.345919    0.333333       0.000000     1.000000   \n",
       "75%      0.775510    0.538661    0.666667       1.000000     1.000000   \n",
       "max      1.000000    1.000000    1.000000       1.000000     1.000000   \n",
       "\n",
       "       region_INNER_CITY  region_RURAL  region_SUBURBAN  region_TOWN  \\\n",
       "count         480.000000    480.000000       480.000000   480.000000   \n",
       "mean            0.460417      0.160417         0.093750     0.285417   \n",
       "std             0.498951      0.367375         0.291785     0.452084   \n",
       "min             0.000000      0.000000         0.000000     0.000000   \n",
       "25%             0.000000      0.000000         0.000000     0.000000   \n",
       "50%             0.000000      0.000000         0.000000     0.000000   \n",
       "75%             1.000000      0.000000         0.000000     1.000000   \n",
       "max             1.000000      1.000000         1.000000     1.000000   \n",
       "\n",
       "       married_NO  married_YES      car_NO     car_YES  savings_acct_NO  \\\n",
       "count  480.000000   480.000000  480.000000  480.000000       480.000000   \n",
       "mean     0.343750     0.656250    0.516667    0.483333         0.320833   \n",
       "std      0.475454     0.475454    0.500244    0.500244         0.467284   \n",
       "min      0.000000     0.000000    0.000000    0.000000         0.000000   \n",
       "25%      0.000000     0.000000    0.000000    0.000000         0.000000   \n",
       "50%      0.000000     1.000000    1.000000    0.000000         0.000000   \n",
       "75%      1.000000     1.000000    1.000000    1.000000         1.000000   \n",
       "max      1.000000     1.000000    1.000000    1.000000         1.000000   \n",
       "\n",
       "       savings_acct_YES  current_acct_NO  current_acct_YES  \n",
       "count        480.000000       480.000000        480.000000  \n",
       "mean           0.679167         0.235417          0.764583  \n",
       "std            0.467284         0.424702          0.424702  \n",
       "min            0.000000         0.000000          0.000000  \n",
       "25%            0.000000         0.000000          1.000000  \n",
       "50%            1.000000         0.000000          1.000000  \n",
       "75%            1.000000         0.000000          1.000000  \n",
       "max            1.000000         1.000000          1.000000  "
      ]
     },
     "execution_count": 15,
     "metadata": {},
     "output_type": "execute_result"
    }
   ],
   "source": [
    "bank_train.describe()"
   ]
  },
  {
   "cell_type": "code",
   "execution_count": 16,
   "metadata": {},
   "outputs": [
    {
     "data": {
      "text/html": [
       "<div style=\"max-height:1000px;max-width:1500px;overflow:auto;\">\n",
       "<table border=\"1\" class=\"dataframe\">\n",
       "  <thead>\n",
       "    <tr style=\"text-align: right;\">\n",
       "      <th></th>\n",
       "      <th>Age</th>\n",
       "      <th>Income</th>\n",
       "      <th>Children</th>\n",
       "      <th>gender_FEMALE</th>\n",
       "      <th>gender_MALE</th>\n",
       "      <th>region_INNER_CITY</th>\n",
       "      <th>region_RURAL</th>\n",
       "      <th>region_SUBURBAN</th>\n",
       "      <th>region_TOWN</th>\n",
       "      <th>married_NO</th>\n",
       "      <th>married_YES</th>\n",
       "      <th>car_NO</th>\n",
       "      <th>car_YES</th>\n",
       "      <th>savings_acct_NO</th>\n",
       "      <th>savings_acct_YES</th>\n",
       "      <th>current_acct_NO</th>\n",
       "      <th>current_acct_YES</th>\n",
       "    </tr>\n",
       "  </thead>\n",
       "  <tbody>\n",
       "    <tr>\n",
       "      <th>count</th>\n",
       "      <td> 119.000000</td>\n",
       "      <td> 119.000000</td>\n",
       "      <td> 119.000000</td>\n",
       "      <td> 119.000000</td>\n",
       "      <td> 119.000000</td>\n",
       "      <td> 119.000000</td>\n",
       "      <td> 119.000000</td>\n",
       "      <td> 119.000000</td>\n",
       "      <td> 119.000000</td>\n",
       "      <td> 119.000000</td>\n",
       "      <td> 119.000000</td>\n",
       "      <td> 119.000000</td>\n",
       "      <td> 119.000000</td>\n",
       "      <td> 119.000000</td>\n",
       "      <td> 119.000000</td>\n",
       "      <td> 119.000000</td>\n",
       "      <td> 119.000000</td>\n",
       "    </tr>\n",
       "    <tr>\n",
       "      <th>mean</th>\n",
       "      <td>   0.476419</td>\n",
       "      <td>   0.379553</td>\n",
       "      <td>   0.338936</td>\n",
       "      <td>   0.546218</td>\n",
       "      <td>   0.453782</td>\n",
       "      <td>   0.403361</td>\n",
       "      <td>   0.151261</td>\n",
       "      <td>   0.142857</td>\n",
       "      <td>   0.302521</td>\n",
       "      <td>   0.327731</td>\n",
       "      <td>   0.672269</td>\n",
       "      <td>   0.462185</td>\n",
       "      <td>   0.537815</td>\n",
       "      <td>   0.260504</td>\n",
       "      <td>   0.739496</td>\n",
       "      <td>   0.268908</td>\n",
       "      <td>   0.731092</td>\n",
       "    </tr>\n",
       "    <tr>\n",
       "      <th>std</th>\n",
       "      <td>   0.283076</td>\n",
       "      <td>   0.222119</td>\n",
       "      <td>   0.349827</td>\n",
       "      <td>   0.499964</td>\n",
       "      <td>   0.499964</td>\n",
       "      <td>   0.492646</td>\n",
       "      <td>   0.359818</td>\n",
       "      <td>   0.351407</td>\n",
       "      <td>   0.461292</td>\n",
       "      <td>   0.471371</td>\n",
       "      <td>   0.471371</td>\n",
       "      <td>   0.500676</td>\n",
       "      <td>   0.500676</td>\n",
       "      <td>   0.440766</td>\n",
       "      <td>   0.440766</td>\n",
       "      <td>   0.445267</td>\n",
       "      <td>   0.445267</td>\n",
       "    </tr>\n",
       "    <tr>\n",
       "      <th>min</th>\n",
       "      <td>   0.000000</td>\n",
       "      <td>   0.022025</td>\n",
       "      <td>   0.000000</td>\n",
       "      <td>   0.000000</td>\n",
       "      <td>   0.000000</td>\n",
       "      <td>   0.000000</td>\n",
       "      <td>   0.000000</td>\n",
       "      <td>   0.000000</td>\n",
       "      <td>   0.000000</td>\n",
       "      <td>   0.000000</td>\n",
       "      <td>   0.000000</td>\n",
       "      <td>   0.000000</td>\n",
       "      <td>   0.000000</td>\n",
       "      <td>   0.000000</td>\n",
       "      <td>   0.000000</td>\n",
       "      <td>   0.000000</td>\n",
       "      <td>   0.000000</td>\n",
       "    </tr>\n",
       "    <tr>\n",
       "      <th>25%</th>\n",
       "      <td>   0.234694</td>\n",
       "      <td>   0.200117</td>\n",
       "      <td>   0.000000</td>\n",
       "      <td>   0.000000</td>\n",
       "      <td>   0.000000</td>\n",
       "      <td>   0.000000</td>\n",
       "      <td>   0.000000</td>\n",
       "      <td>   0.000000</td>\n",
       "      <td>   0.000000</td>\n",
       "      <td>   0.000000</td>\n",
       "      <td>   0.000000</td>\n",
       "      <td>   0.000000</td>\n",
       "      <td>   0.000000</td>\n",
       "      <td>   0.000000</td>\n",
       "      <td>   0.000000</td>\n",
       "      <td>   0.000000</td>\n",
       "      <td>   0.000000</td>\n",
       "    </tr>\n",
       "    <tr>\n",
       "      <th>50%</th>\n",
       "      <td>   0.469388</td>\n",
       "      <td>   0.341459</td>\n",
       "      <td>   0.333333</td>\n",
       "      <td>   1.000000</td>\n",
       "      <td>   0.000000</td>\n",
       "      <td>   0.000000</td>\n",
       "      <td>   0.000000</td>\n",
       "      <td>   0.000000</td>\n",
       "      <td>   0.000000</td>\n",
       "      <td>   0.000000</td>\n",
       "      <td>   1.000000</td>\n",
       "      <td>   0.000000</td>\n",
       "      <td>   1.000000</td>\n",
       "      <td>   0.000000</td>\n",
       "      <td>   1.000000</td>\n",
       "      <td>   0.000000</td>\n",
       "      <td>   1.000000</td>\n",
       "    </tr>\n",
       "    <tr>\n",
       "      <th>75%</th>\n",
       "      <td>   0.673469</td>\n",
       "      <td>   0.515813</td>\n",
       "      <td>   0.666667</td>\n",
       "      <td>   1.000000</td>\n",
       "      <td>   1.000000</td>\n",
       "      <td>   1.000000</td>\n",
       "      <td>   0.000000</td>\n",
       "      <td>   0.000000</td>\n",
       "      <td>   1.000000</td>\n",
       "      <td>   1.000000</td>\n",
       "      <td>   1.000000</td>\n",
       "      <td>   1.000000</td>\n",
       "      <td>   1.000000</td>\n",
       "      <td>   1.000000</td>\n",
       "      <td>   1.000000</td>\n",
       "      <td>   1.000000</td>\n",
       "      <td>   1.000000</td>\n",
       "    </tr>\n",
       "    <tr>\n",
       "      <th>max</th>\n",
       "      <td>   1.000000</td>\n",
       "      <td>   0.942795</td>\n",
       "      <td>   1.000000</td>\n",
       "      <td>   1.000000</td>\n",
       "      <td>   1.000000</td>\n",
       "      <td>   1.000000</td>\n",
       "      <td>   1.000000</td>\n",
       "      <td>   1.000000</td>\n",
       "      <td>   1.000000</td>\n",
       "      <td>   1.000000</td>\n",
       "      <td>   1.000000</td>\n",
       "      <td>   1.000000</td>\n",
       "      <td>   1.000000</td>\n",
       "      <td>   1.000000</td>\n",
       "      <td>   1.000000</td>\n",
       "      <td>   1.000000</td>\n",
       "      <td>   1.000000</td>\n",
       "    </tr>\n",
       "  </tbody>\n",
       "</table>\n",
       "</div>"
      ],
      "text/plain": [
       "              Age      Income    Children  gender_FEMALE  gender_MALE  \\\n",
       "count  119.000000  119.000000  119.000000     119.000000   119.000000   \n",
       "mean     0.476419    0.379553    0.338936       0.546218     0.453782   \n",
       "std      0.283076    0.222119    0.349827       0.499964     0.499964   \n",
       "min      0.000000    0.022025    0.000000       0.000000     0.000000   \n",
       "25%      0.234694    0.200117    0.000000       0.000000     0.000000   \n",
       "50%      0.469388    0.341459    0.333333       1.000000     0.000000   \n",
       "75%      0.673469    0.515813    0.666667       1.000000     1.000000   \n",
       "max      1.000000    0.942795    1.000000       1.000000     1.000000   \n",
       "\n",
       "       region_INNER_CITY  region_RURAL  region_SUBURBAN  region_TOWN  \\\n",
       "count         119.000000    119.000000       119.000000   119.000000   \n",
       "mean            0.403361      0.151261         0.142857     0.302521   \n",
       "std             0.492646      0.359818         0.351407     0.461292   \n",
       "min             0.000000      0.000000         0.000000     0.000000   \n",
       "25%             0.000000      0.000000         0.000000     0.000000   \n",
       "50%             0.000000      0.000000         0.000000     0.000000   \n",
       "75%             1.000000      0.000000         0.000000     1.000000   \n",
       "max             1.000000      1.000000         1.000000     1.000000   \n",
       "\n",
       "       married_NO  married_YES      car_NO     car_YES  savings_acct_NO  \\\n",
       "count  119.000000   119.000000  119.000000  119.000000       119.000000   \n",
       "mean     0.327731     0.672269    0.462185    0.537815         0.260504   \n",
       "std      0.471371     0.471371    0.500676    0.500676         0.440766   \n",
       "min      0.000000     0.000000    0.000000    0.000000         0.000000   \n",
       "25%      0.000000     0.000000    0.000000    0.000000         0.000000   \n",
       "50%      0.000000     1.000000    0.000000    1.000000         0.000000   \n",
       "75%      1.000000     1.000000    1.000000    1.000000         1.000000   \n",
       "max      1.000000     1.000000    1.000000    1.000000         1.000000   \n",
       "\n",
       "       savings_acct_YES  current_acct_NO  current_acct_YES  \n",
       "count        119.000000       119.000000        119.000000  \n",
       "mean           0.739496         0.268908          0.731092  \n",
       "std            0.440766         0.445267          0.445267  \n",
       "min            0.000000         0.000000          0.000000  \n",
       "25%            0.000000         0.000000          0.000000  \n",
       "50%            1.000000         0.000000          1.000000  \n",
       "75%            1.000000         1.000000          1.000000  \n",
       "max            1.000000         1.000000          1.000000  "
      ]
     },
     "execution_count": 16,
     "metadata": {},
     "output_type": "execute_result"
    }
   ],
   "source": [
    "bank_test.describe()"
   ]
  },
  {
   "cell_type": "code",
   "execution_count": 17,
   "metadata": {},
   "outputs": [
    {
     "name": "stdout",
     "output_type": "stream",
     "text": [
      "[1 0 0 1 0 0 1 0 1 1 1 1 1 0 1 1 1 0 1 0 1 0 0 1 0 1 1 1 1 0 0 0 0 1 1 1 1\n",
      " 0 0 1 0 0 0 1 1 0 0 0 0 1 1 1 1 0 0 1 1 0 1 1 1 0 1 1 1 1 0 1 1 0 0 0 0 0\n",
      " 0 1 0 0 1 1 1 0 1 1 0 0 0 0 1 0 0 1 0 0 0 1 1 0 0 1 0 0 0 1 0 1 1 0 0 0 1\n",
      " 0 1 0 0 0 1 0 1]\n",
      "int64\n",
      "481    1\n",
      "482    0\n",
      "483    0\n",
      "484    1\n",
      "485    0\n",
      "486    0\n",
      "487    1\n",
      "488    0\n",
      "489    1\n",
      "490    1\n",
      "491    1\n",
      "492    1\n",
      "493    1\n",
      "494    0\n",
      "495    1\n",
      "...\n",
      "585    0\n",
      "586    1\n",
      "587    1\n",
      "588    0\n",
      "589    0\n",
      "590    0\n",
      "591    1\n",
      "592    0\n",
      "593    1\n",
      "594    0\n",
      "595    0\n",
      "596    0\n",
      "597    1\n",
      "598    0\n",
      "599    1\n",
      "Name: pep, Length: 119, dtype: int64\n"
     ]
    }
   ],
   "source": [
    "#create test and training of target\n",
    "#80% in test\n",
    "tsize = tpercent * len(bank.target)\n",
    "bank_train_target = bank.target[:480].astype(int) #this changes it from object to int\n",
    "bank_test_target = bank.target[481:600].astype(int)\n",
    "expected=np.array(bank_test_target)\n",
    "print expected\n",
    "print expected.dtype\n",
    "print bank_test_target"
   ]
  },
  {
   "cell_type": "code",
   "execution_count": 18,
   "metadata": {},
   "outputs": [],
   "source": [
    "bank_train.to_csv('bank.csv')\n",
    "bank_train_target.to_csv('bank_target.csv')"
   ]
  },
  {
   "cell_type": "code",
   "execution_count": 19,
   "metadata": {},
   "outputs": [
    {
     "name": "stdout",
     "output_type": "stream",
     "text": [
      "DecisionTreeClassifier(compute_importances=None, criterion='gini',\n",
      "            max_depth=None, max_features=None, max_leaf_nodes=None,\n",
      "            min_density=None, min_samples_leaf=1, min_samples_split=2,\n",
      "            random_state=None, splitter='best')\n"
     ]
    }
   ],
   "source": [
    "#Basic Decsion Tree\n",
    "clf = tree.DecisionTreeClassifier()\n",
    "clf = clf.fit(bank_train, bank_train_target)\n",
    "print clf"
   ]
  },
  {
   "cell_type": "code",
   "execution_count": 20,
   "metadata": {},
   "outputs": [
    {
     "data": {
      "text/plain": [
       "0.83193277310924374"
      ]
     },
     "execution_count": 20,
     "metadata": {},
     "output_type": "execute_result"
    }
   ],
   "source": [
    "#test model using test data\n",
    "target_predicted_DT1 = clf.predict(bank_test)\n",
    "accuracy_score(expected,target_predicted_DT1)"
   ]
  },
  {
   "cell_type": "code",
   "execution_count": 21,
   "metadata": {},
   "outputs": [
    {
     "name": "stdout",
     "output_type": "stream",
     "text": [
      "[[53  8]\n",
      " [12 46]]\n"
     ]
    },
    {
     "data": {
      "text/plain": [
       "<matplotlib.text.Text at 0x10bb9d090>"
      ]
     },
     "execution_count": 21,
     "metadata": {},
     "output_type": "execute_result"
    },
    {
     "data": {
      "image/png": "[encoded data removed]",
      "text/plain": [
       "<matplotlib.figure.Figure at 0x10bba3790>"
      ]
     },
     "metadata": {},
     "output_type": "display_data"
    }
   ],
   "source": [
    "# display confusion matrix for DT\n",
    "cm = confusion_matrix(expected, target_predicted_DT1)\n",
    "print(cm)\n",
    "plt.matshow(cm)\n",
    "plt.title('Confusion matrix for Decision Tree')\n",
    "plt.colorbar()\n",
    "plt.ylabel('True label')\n",
    "plt.xlabel('Predicted label')\n"
   ]
  },
  {
   "cell_type": "code",
   "execution_count": 22,
   "metadata": {},
   "outputs": [
    {
     "name": "stdout",
     "output_type": "stream",
     "text": [
      "             precision    recall  f1-score   support\n",
      "\n",
      "         No       0.82      0.87      0.84        61\n",
      "        Yes       0.85      0.79      0.82        58\n",
      "\n",
      "avg / total       0.83      0.83      0.83       119\n",
      "\n"
     ]
    }
   ],
   "source": [
    "# print classification report\n",
    "target_names = ['No', 'Yes']\n",
    "print classification_report(expected, target_predicted_DT1, target_names= target_names)"
   ]
  },
  {
   "cell_type": "code",
   "execution_count": 23,
   "metadata": {},
   "outputs": [
    {
     "name": "stdout",
     "output_type": "stream",
     "text": [
      "DecisionTreeClassifier(compute_importances=None, criterion='entropy',\n",
      "            max_depth=None, max_features=None, max_leaf_nodes=None,\n",
      "            min_density=None, min_samples_leaf=1, min_samples_split=2,\n",
      "            random_state=None, splitter='best')\n"
     ]
    },
    {
     "data": {
      "text/plain": [
       "0.80672268907563027"
      ]
     },
     "execution_count": 23,
     "metadata": {},
     "output_type": "execute_result"
    }
   ],
   "source": [
    "#Basic Decsion Tree\n",
    "clf1 = tree.DecisionTreeClassifier(criterion='entropy')\n",
    "clf1 = clf1.fit(bank_train, bank_train_target)\n",
    "print clf1\n",
    "#test model using test data\n",
    "target_predicted_DT2 = clf1.predict(bank_test)\n",
    "accuracy_score(expected,target_predicted_DT2)"
   ]
  },
  {
   "cell_type": "code",
   "execution_count": 24,
   "metadata": {},
   "outputs": [
    {
     "name": "stdout",
     "output_type": "stream",
     "text": [
      "[[49 12]\n",
      " [11 47]]\n",
      "0.806722689076\n"
     ]
    },
    {
     "data": {
      "text/plain": [
       "<matplotlib.text.Text at 0x10bdc5b50>"
      ]
     },
     "execution_count": 24,
     "metadata": {},
     "output_type": "execute_result"
    },
    {
     "data": {
      "image/png": "[encoded data removed]",
      "text/plain": [
       "<matplotlib.figure.Figure at 0x10bbf7d10>"
      ]
     },
     "metadata": {},
     "output_type": "display_data"
    }
   ],
   "source": [
    "# display confusion matrix fro DT\n",
    "cm_DT1 = confusion_matrix(expected, target_predicted_DT2)\n",
    "print(cm_DT1)\n",
    "print accuracy_score(expected,target_predicted_DT2)\n",
    "plt.matshow(cm_DT1)\n",
    "plt.title('Confusion matrix for Decision Tree')\n",
    "plt.colorbar()\n",
    "plt.ylabel('True label')\n",
    "plt.xlabel('Predicted label')"
   ]
  },
  {
   "cell_type": "code",
   "execution_count": 25,
   "metadata": {},
   "outputs": [
    {
     "name": "stdout",
     "output_type": "stream",
     "text": [
      "KNeighborsClassifier(algorithm='auto', leaf_size=30, metric='minkowski',\n",
      "           metric_params=None, n_neighbors=3, p=2, weights='uniform')\n",
      "[1 0 0 1 0 0 1 0 1 1 1 1 1 0 1 1 1 0 1 0 1 0 0 1 0 1 1 1 1 0 0 0 0 1 1 1 1\n",
      " 0 0 1 0 0 0 1 1 0 0 0 0 1 1 1 1 0 0 1 1 0 1 1 1 0 1 1 1 1 0 1 1 0 0 0 0 0\n",
      " 0 1 0 0 1 1 1 0 1 1 0 0 0 0 1 0 0 1 0 0 0 1 1 0 0 1 0 0 0 1 0 1 1 0 0 0 1\n",
      " 0 1 0 0 0 1 0 1]\n",
      "             precision    recall  f1-score   support\n",
      "\n",
      "          0       0.60      0.66      0.62        61\n",
      "          1       0.60      0.53      0.56        58\n",
      "\n",
      "avg / total       0.60      0.60      0.60       119\n",
      "\n",
      "[[40 21]\n",
      " [27 31]]\n",
      "0.596638655462\n"
     ]
    }
   ],
   "source": [
    "#Try KNN\n",
    "from sklearn.neighbors import KNeighborsClassifier\n",
    "from sklearn import metrics\n",
    "neigh = KNeighborsClassifier(n_neighbors=3)\n",
    "neigh.fit(bank_train, bank_train_target) \n",
    "predicted_KNN1 = neigh.predict(bank_test)\n",
    "print(neigh)\n",
    "# make predictions\n",
    "print expected\n",
    "# summarize the fit of the model\n",
    "print(classification_report(expected, predicted_KNN1))\n",
    "print(confusion_matrix(expected, predicted_KNN1))\n",
    "print accuracy_score(expected,predicted_KNN1)"
   ]
  },
  {
   "cell_type": "code",
   "execution_count": 26,
   "metadata": {},
   "outputs": [
    {
     "name": "stdout",
     "output_type": "stream",
     "text": [
      "[[40 21]\n",
      " [27 31]]\n"
     ]
    },
    {
     "data": {
      "text/plain": [
       "<matplotlib.text.Text at 0x10c050190>"
      ]
     },
     "execution_count": 26,
     "metadata": {},
     "output_type": "execute_result"
    },
    {
     "data": {
      "image/png": "[encoded data removed]",
      "text/plain": [
       "<matplotlib.figure.Figure at 0x10bc0f190>"
      ]
     },
     "metadata": {},
     "output_type": "display_data"
    }
   ],
   "source": [
    "# display confusion matrix\n",
    "cm_KNN = confusion_matrix(expected, predicted_KNN1)\n",
    "print(cm_KNN)\n",
    "plt.matshow(cm_KNN)\n",
    "plt.title('Confusion matrix for KNN')\n",
    "plt.colorbar()\n",
    "plt.ylabel('True label')\n",
    "plt.xlabel('Predicted label')"
   ]
  },
  {
   "cell_type": "code",
   "execution_count": 27,
   "metadata": {},
   "outputs": [
    {
     "name": "stdout",
     "output_type": "stream",
     "text": [
      "KNeighborsClassifier(algorithm='auto', leaf_size=30, metric='euclidean',\n",
      "           metric_params=None, n_neighbors=5, p=2, weights='uniform')\n",
      "[1 0 0 1 0 0 1 0 1 1 1 1 1 0 1 1 1 0 1 0 1 0 0 1 0 1 1 1 1 0 0 0 0 1 1 1 1\n",
      " 0 0 1 0 0 0 1 1 0 0 0 0 1 1 1 1 0 0 1 1 0 1 1 1 0 1 1 1 1 0 1 1 0 0 0 0 0\n",
      " 0 1 0 0 1 1 1 0 1 1 0 0 0 0 1 0 0 1 0 0 0 1 1 0 0 1 0 0 0 1 0 1 1 0 0 0 1\n",
      " 0 1 0 0 0 1 0 1]\n",
      "             precision    recall  f1-score   support\n",
      "\n",
      "          0       0.61      0.62      0.62        61\n",
      "          1       0.60      0.59      0.59        58\n",
      "\n",
      "avg / total       0.60      0.61      0.60       119\n",
      "\n",
      "[[38 23]\n",
      " [24 34]]\n",
      "Accurancy 0.605042016807\n"
     ]
    }
   ],
   "source": [
    "#Try KNN Part 2\n",
    "from sklearn.neighbors import KNeighborsClassifier\n",
    "from sklearn import metrics\n",
    "neigh = KNeighborsClassifier(n_neighbors=5, metric='euclidean')\n",
    "neigh.fit(bank_train, bank_train_target) \n",
    "predicted_KNN2 = neigh.predict(bank_test)\n",
    "print(neigh)\n",
    "# make predictions\n",
    "print expected\n",
    "# summarize the fit of the model\n",
    "print(classification_report(expected, predicted_KNN2))\n",
    "print(confusion_matrix(expected, predicted_KNN2))\n",
    "print \"Accurancy\", accuracy_score(expected,predicted_KNN2)"
   ]
  },
  {
   "cell_type": "code",
   "execution_count": 28,
   "metadata": {},
   "outputs": [
    {
     "name": "stdout",
     "output_type": "stream",
     "text": [
      "[[38 23]\n",
      " [24 34]]\n"
     ]
    },
    {
     "data": {
      "text/plain": [
       "<matplotlib.text.Text at 0x10c47df50>"
      ]
     },
     "execution_count": 28,
     "metadata": {},
     "output_type": "execute_result"
    },
    {
     "data": {
      "image/png": "[encoded data removed]",
      "text/plain": [
       "<matplotlib.figure.Figure at 0x10c050650>"
      ]
     },
     "metadata": {},
     "output_type": "display_data"
    }
   ],
   "source": [
    "# display confusion matrix\n",
    "cm_KNN2 = confusion_matrix(expected, predicted_KNN2)\n",
    "print(cm_KNN2)\n",
    "plt.matshow(cm_KNN2)\n",
    "plt.title('Confusion matrix for KNN2')\n",
    "plt.colorbar()\n",
    "plt.ylabel('True label')\n",
    "plt.xlabel('Predicted label')"
   ]
  },
  {
   "cell_type": "code",
   "execution_count": 29,
   "metadata": {},
   "outputs": [
    {
     "name": "stdout",
     "output_type": "stream",
     "text": [
      "KNeighborsClassifier(algorithm='auto', leaf_size=30, metric='minkowski',\n",
      "           metric_params=None, n_neighbors=4, p=2, weights='distance')\n",
      "[1 0 0 1 0 0 1 0 1 1 1 1 1 0 1 1 1 0 1 0 1 0 0 1 0 1 1 1 1 0 0 0 0 1 1 1 1\n",
      " 0 0 1 0 0 0 1 1 0 0 0 0 1 1 1 1 0 0 1 1 0 1 1 1 0 1 1 1 1 0 1 1 0 0 0 0 0\n",
      " 0 1 0 0 1 1 1 0 1 1 0 0 0 0 1 0 0 1 0 0 0 1 1 0 0 1 0 0 0 1 0 1 1 0 0 0 1\n",
      " 0 1 0 0 0 1 0 1]\n",
      "             precision    recall  f1-score   support\n",
      "\n",
      "          0       0.61      0.62      0.62        61\n",
      "          1       0.60      0.59      0.59        58\n",
      "\n",
      "avg / total       0.60      0.61      0.60       119\n",
      "\n",
      "[[38 23]\n",
      " [24 34]]\n",
      "0.605042016807\n"
     ]
    }
   ],
   "source": [
    "#Try KNN part 3, weigthed minkowski and distance weights\n",
    "from sklearn.neighbors import KNeighborsClassifier\n",
    "from sklearn import metrics\n",
    "neigh = KNeighborsClassifier(n_neighbors=4, metric='minkowski', weights='distance')\n",
    "neigh.fit(bank_train, bank_train_target) \n",
    "predicted_KNN3 = neigh.predict(bank_test)\n",
    "print(neigh)\n",
    "# make predictions\n",
    "print expected\n",
    "# summarize the fit of the model\n",
    "print(classification_report(expected, predicted_KNN3))\n",
    "print(confusion_matrix(expected, predicted_KNN3))\n",
    "print accuracy_score(expected,predicted_KNN3)"
   ]
  },
  {
   "cell_type": "code",
   "execution_count": 30,
   "metadata": {},
   "outputs": [
    {
     "name": "stdout",
     "output_type": "stream",
     "text": [
      "Number of mislabeled points out of a total 119 points : 38\n"
     ]
    }
   ],
   "source": [
    "#Use NB\n",
    "from sklearn.naive_bayes import GaussianNB\n",
    "gnb = GaussianNB()\n",
    "y_pred = gnb.fit(bank_train, bank_train_target).predict(bank_test)\n",
    "print(\"Number of mislabeled points out of a total %d points : %d\" % (bank_test.shape[0],(bank_test_target != y_pred).sum()))"
   ]
  },
  {
   "cell_type": "code",
   "execution_count": 31,
   "metadata": {},
   "outputs": [
    {
     "data": {
      "text/plain": [
       "array([[ 0.13980651,  0.86019349],\n",
       "       [ 0.13877089,  0.86122911],\n",
       "       [ 0.83726172,  0.16273828],\n",
       "       [ 0.85343414,  0.14656586],\n",
       "       [ 0.39170914,  0.60829086],\n",
       "       [ 0.93890322,  0.06109678],\n",
       "       [ 0.54346851,  0.45653149],\n",
       "       [ 0.98304117,  0.01695883],\n",
       "       [ 0.93399427,  0.06600573],\n",
       "       [ 0.79734909,  0.20265091],\n",
       "       [ 0.38431801,  0.61568199],\n",
       "       [ 0.85429691,  0.14570309],\n",
       "       [ 0.14193666,  0.85806334],\n",
       "       [ 0.69178405,  0.30821595],\n",
       "       [ 0.62617265,  0.37382735],\n",
       "       [ 0.17928861,  0.82071139],\n",
       "       [ 0.08852043,  0.91147957],\n",
       "       [ 0.19976576,  0.80023424],\n",
       "       [ 0.70192829,  0.29807171],\n",
       "       [ 0.96090967,  0.03909033],\n",
       "       [ 0.09679633,  0.90320367],\n",
       "       [ 0.83396711,  0.16603289],\n",
       "       [ 0.54218284,  0.45781716],\n",
       "       [ 0.17103596,  0.82896404],\n",
       "       [ 0.84235313,  0.15764687],\n",
       "       [ 0.76444092,  0.23555908],\n",
       "       [ 0.22426915,  0.77573085],\n",
       "       [ 0.02085291,  0.97914709],\n",
       "       [ 0.81634758,  0.18365242],\n",
       "       [ 0.95227096,  0.04772904],\n",
       "       [ 0.93050531,  0.06949469],\n",
       "       [ 0.54101478,  0.45898522],\n",
       "       [ 0.61588947,  0.38411053],\n",
       "       [ 0.40065487,  0.59934513],\n",
       "       [ 0.83003357,  0.16996643],\n",
       "       [ 0.67744703,  0.32255297],\n",
       "       [ 0.80152229,  0.19847771],\n",
       "       [ 0.59482046,  0.40517954],\n",
       "       [ 0.89239906,  0.10760094],\n",
       "       [ 0.76022572,  0.23977428],\n",
       "       [ 0.8923177 ,  0.1076823 ],\n",
       "       [ 0.38590398,  0.61409602],\n",
       "       [ 0.93588053,  0.06411947],\n",
       "       [ 0.47758843,  0.52241157],\n",
       "       [ 0.68735307,  0.31264693],\n",
       "       [ 0.64932799,  0.35067201],\n",
       "       [ 0.57334952,  0.42665048],\n",
       "       [ 0.77520079,  0.22479921],\n",
       "       [ 0.25228566,  0.74771434],\n",
       "       [ 0.04239741,  0.95760259],\n",
       "       [ 0.30016071,  0.69983929],\n",
       "       [ 0.19779104,  0.80220896],\n",
       "       [ 0.44363406,  0.55636594],\n",
       "       [ 0.49508265,  0.50491735],\n",
       "       [ 0.7435977 ,  0.2564023 ],\n",
       "       [ 0.20733794,  0.79266206],\n",
       "       [ 0.02643541,  0.97356459],\n",
       "       [ 0.74146427,  0.25853573],\n",
       "       [ 0.89439608,  0.10560392],\n",
       "       [ 0.87639663,  0.12360337],\n",
       "       [ 0.54957591,  0.45042409],\n",
       "       [ 0.8594283 ,  0.1405717 ],\n",
       "       [ 0.16430062,  0.83569938],\n",
       "       [ 0.55007359,  0.44992641],\n",
       "       [ 0.12588278,  0.87411722],\n",
       "       [ 0.46297072,  0.53702928],\n",
       "       [ 0.64658794,  0.35341206],\n",
       "       [ 0.57426542,  0.42573458],\n",
       "       [ 0.34517291,  0.65482709],\n",
       "       [ 0.75564221,  0.24435779],\n",
       "       [ 0.53143617,  0.46856383],\n",
       "       [ 0.62326989,  0.37673011],\n",
       "       [ 0.27975913,  0.72024087],\n",
       "       [ 0.81818118,  0.18181882],\n",
       "       [ 0.92413655,  0.07586345],\n",
       "       [ 0.65541743,  0.34458257],\n",
       "       [ 0.42813337,  0.57186663],\n",
       "       [ 0.5331913 ,  0.4668087 ],\n",
       "       [ 0.23950048,  0.76049952],\n",
       "       [ 0.36032308,  0.63967692],\n",
       "       [ 0.10166493,  0.89833507],\n",
       "       [ 0.26277031,  0.73722969],\n",
       "       [ 0.25597349,  0.74402651],\n",
       "       [ 0.25770051,  0.74229949],\n",
       "       [ 0.90465448,  0.09534552],\n",
       "       [ 0.66888889,  0.33111111],\n",
       "       [ 0.91422487,  0.08577513],\n",
       "       [ 0.83125811,  0.16874189],\n",
       "       [ 0.27369559,  0.72630441],\n",
       "       [ 0.15781769,  0.84218231],\n",
       "       [ 0.67710338,  0.32289662],\n",
       "       [ 0.18420273,  0.81579727],\n",
       "       [ 0.83469145,  0.16530855],\n",
       "       [ 0.80295195,  0.19704805],\n",
       "       [ 0.8037215 ,  0.1962785 ],\n",
       "       [ 0.87993724,  0.12006276],\n",
       "       [ 0.60195348,  0.39804652],\n",
       "       [ 0.52962164,  0.47037836],\n",
       "       [ 0.78982822,  0.21017178],\n",
       "       [ 0.17439103,  0.82560897],\n",
       "       [ 0.7879527 ,  0.2120473 ],\n",
       "       [ 0.81565322,  0.18434678],\n",
       "       [ 0.19153213,  0.80846787],\n",
       "       [ 0.82498682,  0.17501318],\n",
       "       [ 0.74084312,  0.25915688],\n",
       "       [ 0.72618689,  0.27381311],\n",
       "       [ 0.45373533,  0.54626467],\n",
       "       [ 0.21934558,  0.78065442],\n",
       "       [ 0.52726278,  0.47273722],\n",
       "       [ 0.83131751,  0.16868249],\n",
       "       [ 0.41032047,  0.58967953],\n",
       "       [ 0.81805156,  0.18194844],\n",
       "       [ 0.11537281,  0.88462719],\n",
       "       [ 0.75199251,  0.24800749],\n",
       "       [ 0.11847992,  0.88152008],\n",
       "       [ 0.88636434,  0.11363566],\n",
       "       [ 0.93986189,  0.06013811],\n",
       "       [ 0.928112  ,  0.071888  ],\n",
       "       [ 0.1791178 ,  0.8208822 ]])"
      ]
     },
     "execution_count": 31,
     "metadata": {},
     "output_type": "execute_result"
    }
   ],
   "source": [
    "#Predict Probabiliity of each test instance.\n",
    "gnb.predict_proba(bank_test)"
   ]
  },
  {
   "cell_type": "code",
   "execution_count": 32,
   "metadata": {},
   "outputs": [
    {
     "data": {
      "text/plain": [
       "0.68067226890756305"
      ]
     },
     "execution_count": 32,
     "metadata": {},
     "output_type": "execute_result"
    }
   ],
   "source": [
    "gnb.score(bank_test, expected, sample_weight=None)"
   ]
  },
  {
   "cell_type": "code",
   "execution_count": 32,
   "metadata": {},
   "outputs": [],
   "source": []
  },
  {
   "cell_type": "code",
   "execution_count": 32,
   "metadata": {},
   "outputs": [],
   "source": []
  }
 ],
 "metadata": {
  "kernelspec": {
   "display_name": "Python 3",
   "language": "python",
   "name": "python3"
  },
  "language_info": {
   "codemirror_mode": {
    "name": "ipython",
    "version": 3
   },
   "file_extension": ".py",
   "mimetype": "text/x-python",
   "name": "python",
   "nbconvert_exporter": "python",
   "pygments_lexer": "ipython3",
   "version": "3.6.2"
  }
 },
 "nbformat": 4,
 "nbformat_minor": 1
}
